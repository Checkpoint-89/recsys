{
 "cells": [
  {
   "cell_type": "code",
   "execution_count": 1,
   "metadata": {},
   "outputs": [],
   "source": [
    "import numpy as np\n",
    "import pandas as pd\n",
    "import matplotlib\n",
    "from matplotlib import pyplot\n",
    "import gc"
   ]
  },
  {
   "cell_type": "code",
   "execution_count": 2,
   "metadata": {},
   "outputs": [],
   "source": [
    "# Load data\n",
    "browsing_path = r\"D:\\Data\\Documents\\recsys\\SIGIR-ecom-data-challenge\\train\\browsing_train.csv\"\n",
    "data = pd.read_csv(browsing_path)\n",
    "\n",
    "# Add event_product column (type of event + type of product)\n",
    "data[['event_type', 'product_action']] = data[['event_type', 'product_action']].fillna(\"NaN\")\n",
    "data['event_product'] = data['event_type'] + '/' + data['product_action']\n",
    "\n",
    "# Compute what are the combinations of events and products\n",
    "event_action = data['event_product'].value_counts(dropna=False)\n",
    "uniques = data.nunique()"
   ]
  },
  {
   "cell_type": "code",
   "execution_count": 3,
   "metadata": {},
   "outputs": [
    {
     "name": "stdout",
     "output_type": "stream",
     "text": [
      "Data shape:  (36079307, 7)\n",
      "\n",
      "Data columns:\n",
      " ['session_id_hash', 'event_type', 'product_action', 'product_sku_hash', 'server_timestamp_epoch_ms', 'hashed_url', 'event_product']\n",
      "\n",
      "Uniques:\n",
      " session_id_hash               4934699\n",
      "event_type                          2\n",
      "product_action                      5\n",
      "product_sku_hash                57483\n",
      "server_timestamp_epoch_ms    26219566\n",
      "hashed_url                     489300\n",
      "event_product                       5\n",
      "dtype: int64\n",
      "\n",
      "Event_product:\n",
      " pageview/NaN              25647696\n",
      "event_product/detail       9707890\n",
      "event_product/add           329557\n",
      "event_product/remove        316316\n",
      "event_product/purchase       77848\n",
      "Name: event_product, dtype: int64\n"
     ]
    }
   ],
   "source": [
    "# Display some info about the dataset\n",
    "print(\"Data shape: \", data.shape)\n",
    "print(\"\\nData columns:\\n\", data.columns.to_list())\n",
    "print(\"\\nUniques:\\n\", uniques)\n",
    "print(\"\\nEvent_product:\\n\", event_action)"
   ]
  },
  {
   "cell_type": "code",
   "execution_count": 4,
   "metadata": {},
   "outputs": [
    {
     "name": "stdout",
     "output_type": "stream",
     "text": [
      "# sessions  = 0 product:  1958881.0\n",
      "# sessions  = 1 product:  553270.0\n",
      "# sessions >= 2 products:  768433.0\n"
     ]
    },
    {
     "data": {
      "image/png": "[encoded data removed]",
      "text/plain": [
       "<Figure size 432x288 with 1 Axes>"
      ]
     },
     "metadata": {
      "needs_background": "light"
     },
     "output_type": "display_data"
    }
   ],
   "source": [
    "# Keep only session and product ids columns\n",
    "# Drop lines that dont concern products \n",
    "data_ = data[['session_id_hash', 'product_sku_hash']].dropna(subset='product_sku_hash')\n",
    "products_in_session = data_.groupby(by='session_id_hash')\n",
    "hist = pyplot.hist(products_in_session.nunique().to_numpy(), bins=100)\n",
    "print(\"# sessions  = 1 product: \", hist[0][0])\n",
    "print(\"# sessions  = 2 product: \", hist[0][1])\n",
    "print(\"# sessions >= 3 products: \", hist[0][2:].sum())"
   ]
  },
  {
   "cell_type": "code",
   "execution_count": 5,
   "metadata": {},
   "outputs": [
    {
     "name": "stdout",
     "output_type": "stream",
     "text": [
      "1: 10431611\n",
      "2: 109923643\n",
      "3: 38963186\n",
      "4: 31706918\n",
      "5: 31706918\n",
      "6: 15853459\n",
      "7: 15853459\n"
     ]
    }
   ],
   "source": [
    "del(data)\n",
    "print(\"1:\", len(data_))\n",
    "\n",
    "# Compute the the pairs of 'products' in a same 'session'\n",
    "data_ = pd.merge(data_, data_, on='session_id_hash', suffixes=(\"_1\", \"_2\"))\n",
    "print(\"2:\", len(data_))\n",
    "\n",
    "# Drop duplicates of the same pair of products (A B on several rows)\n",
    "data_ = data_.drop_duplicates()\n",
    "print(\"3:\", len(data_))\n",
    "\n",
    "# Drop pairs of the same product (A A on a row)\n",
    "data_ = data_[data_['product_sku_hash_1']!=data_['product_sku_hash_2']]\n",
    "print(\"4:\", len(data_))\n",
    "\n",
    "# Transform the DataFrame into a list\n",
    "data_ = data_[['session_id_hash', 'product_sku_hash_1', 'product_sku_hash_2']].values.tolist()\n",
    "print(\"5:\", len(data_))\n",
    "\n",
    "# Transform the list into a set to discard pairs of same products (A B and B A)\n",
    "data_ = {frozenset(l) for l in data_}\n",
    "print(\"6:\", len(data_))\n",
    "\n",
    "# Transform into a DataFrame and save to a csv\n",
    "data_=pd.DataFrame(data_)\n",
    "data_.columns = [['session_id_hash', 'product_sku_hash_1', 'product_sku_hash_2']]\n",
    "print(\"7:\", len(data_))\n",
    "data_.to_csv(\"pairs.csv\")"
   ]
  },
  {
   "cell_type": "code",
   "execution_count": null,
   "metadata": {},
   "outputs": [],
   "source": []
  },
  {
   "cell_type": "code",
   "execution_count": null,
   "metadata": {},
   "outputs": [],
   "source": []
  },
  {
   "cell_type": "code",
   "execution_count": null,
   "metadata": {},
   "outputs": [],
   "source": []
  },
  {
   "cell_type": "code",
   "execution_count": null,
   "metadata": {},
   "outputs": [],
   "source": []
  },
  {
   "cell_type": "code",
   "execution_count": null,
   "metadata": {},
   "outputs": [],
   "source": []
  },
  {
   "cell_type": "code",
   "execution_count": null,
   "metadata": {},
   "outputs": [],
   "source": []
  },
  {
   "cell_type": "code",
   "execution_count": null,
   "metadata": {},
   "outputs": [],
   "source": []
  },
  {
   "cell_type": "code",
   "execution_count": null,
   "metadata": {},
   "outputs": [],
   "source": []
  },
  {
   "cell_type": "code",
   "execution_count": null,
   "metadata": {},
   "outputs": [],
   "source": [
    "hist = pyplot.hist(products_in_session.nunique().to_numpy(), bins=100)\n",
    "print(\"# sessions  = 0 product: \", hist[0][0])\n",
    "print(\"# sessions  = 1 product: \", hist[0][1])\n",
    "print(\"# sessions >= 2 products: \", hist[0][2:].sum())"
   ]
  },
  {
   "cell_type": "code",
   "execution_count": null,
   "metadata": {},
   "outputs": [],
   "source": [
    "products_in_session = products_in_session.dropna"
   ]
  },
  {
   "cell_type": "code",
   "execution_count": null,
   "metadata": {},
   "outputs": [],
   "source": [
    "from itertools import combinations\n",
    "\n",
    "for name, group in products_in_session:\n",
    "    print(\"Name: \", name)\n",
    "    print(\"Group:\\n\", combinations(group.unique(),2))\n",
    "    break"
   ]
  },
  {
   "cell_type": "code",
   "execution_count": null,
   "metadata": {},
   "outputs": [],
   "source": [
    "list(combinations(group.unique(),2))"
   ]
  },
  {
   "cell_type": "code",
   "execution_count": null,
   "metadata": {},
   "outputs": [],
   "source": []
  },
  {
   "cell_type": "code",
   "execution_count": null,
   "metadata": {},
   "outputs": [],
   "source": []
  },
  {
   "cell_type": "code",
   "execution_count": null,
   "metadata": {},
   "outputs": [],
   "source": []
  },
  {
   "cell_type": "code",
   "execution_count": null,
   "metadata": {},
   "outputs": [],
   "source": [
    "data[data[\"session_id_hash\"]=='00000114e1075962f022114fcfc17f2d874e694ac5d2010985bbba0a595340db']"
   ]
  },
  {
   "cell_type": "code",
   "execution_count": null,
   "metadata": {},
   "outputs": [],
   "source": []
  },
  {
   "cell_type": "code",
   "execution_count": null,
   "metadata": {},
   "outputs": [],
   "source": []
  },
  {
   "cell_type": "code",
   "execution_count": null,
   "metadata": {},
   "outputs": [],
   "source": []
  },
  {
   "cell_type": "code",
   "execution_count": null,
   "metadata": {},
   "outputs": [],
   "source": [
    "input_embeddings = [[\n",
    "    \"Salut\", \"comment\", \"ca\", \"va\", \"?\",\n",
    "]]\n",
    "\n",
    "output_embeddings = [[\n",
    "    \"<START>\", \"Hi\", \"how\", \"are\", \"you\", \"?\",\n",
    "]]\n",
    "print(input_embeddings)\n",
    "print(output_embeddings)"
   ]
  },
  {
   "cell_type": "code",
   "execution_count": null,
   "metadata": {},
   "outputs": [],
   "source": [
    "def get_vocabulary(sequences):\n",
    "\n",
    "    token_to_info = {}\n",
    "\n",
    "    for sequence in sequences:\n",
    "        for word in sequence:\n",
    "            if word not in token_to_info:\n",
    "                token_to_info[word] = len(token_to_info)\n",
    "    return token_to_info\n",
    "\n",
    "input_voc = get_vocabulary(input_embeddings)\n",
    "output_voc = get_vocabulary(output_embeddings)\n",
    "\n",
    "input_voc[\"<START>\"] = len(input_voc)\n",
    "input_voc[\"<END>\"] = len(input_voc)\n",
    "input_voc[\"<PAD>\"] = len(input_voc)\n",
    "\n",
    "output_voc[\"<END>\"] = len(output_voc)\n",
    "output_voc[\"<PAD>\"] = len(output_voc)\n",
    "\n",
    "print(input_voc)\n",
    "print(output_voc)"
   ]
  },
  {
   "cell_type": "code",
   "execution_count": null,
   "metadata": {},
   "outputs": [],
   "source": [
    "def sequences_to_int(sequences, voc):\n",
    "    for sequence in sequences:\n",
    "        for s, word in enumerate(sequence):\n",
    "            sequence[s] = voc[word]\n",
    "    return(np.array(sequences))\n",
    "\n",
    "input_seq = sequences_to_int(input_embeddings, input_voc)\n",
    "output_seq = sequences_to_int(output_embeddings, output_voc)\n",
    "\n",
    "print(input_seq)\n",
    "print(output_seq)"
   ]
  },
  {
   "cell_type": "code",
   "execution_count": null,
   "metadata": {},
   "outputs": [],
   "source": [
    "class EmbeddingLayer(tf.keras.layers.Layer):\n",
    "\n",
    "    def __init__(self, nb_token, **kwargs):\n",
    "        self.nb_token = nb_token\n",
    "        super(**kwargs).__init__()\n",
    "\n",
    "    def build(self, input_shape):\n",
    "        self.word_embedding = tf.keras.layers.Embedding(\n",
    "            self.nb_token, 256,\n",
    "        )\n",
    "        super().build(input_shape)\n",
    "\n",
    "    def call(self, x):\n",
    "        embed = self.word_embedding(x)\n",
    "        return embed\n",
    "\n",
    "\n",
    "class ScaledDotProductAttention(tf.keras.layers.Layer):\n",
    "\n",
    "    def __init__(self, **kwargs):\n",
    "        super(**kwargs).__init__()\n",
    "\n",
    "    def build(self, input_shape):\n",
    "        self.query_layer = tf.keras.layers.Dense(256)\n",
    "        self.value_layer = tf.keras.layers.Dense(256)\n",
    "        self.key_layer = tf.keras.layers.Dense(256)\n",
    "        super().build(input_shape)\n",
    "\n",
    "    def call(self, x):\n",
    "        Q = self.query_layer(x)\n",
    "        K = self.key_layer(x)\n",
    "        V = self.value_layer(x)\n",
    "        QK = tf.matmul(Q, K, transpose_b=True)\n",
    "        QK = QK / tf.math.sqrt(256.)\n",
    "        softmax_QK = tf.nn.softmax(QK, axis=-1)\n",
    "        attention = tf.matmul(softmax_QK, V)\n",
    "        # print(\"Shape Q\", Q.shape)\n",
    "        # print(\"Shape K\", K.shape)\n",
    "        # print(\"Shape V\", V.shape)\n",
    "        # print(\"Shape QK\", QK.shape)\n",
    "        # print(\"Shape softmax\", softmax_QK.shape)\n",
    "        # print(\"Shape attention\", attention.shape)\n",
    "        return attention\n",
    "\n",
    "def test():\n",
    "    layer_input = tf.keras.Input(shape=(5))\n",
    "    embedding = EmbeddingLayer(nb_token=5)(layer_input)\n",
    "    attention = ScaledDotProductAttention()(embedding)\n",
    "    model = tf.keras.Model(layer_input, attention)\n",
    "    #model.summary()\n",
    "    return model\n",
    "\n",
    "m_test = test()\n",
    "out = m_test(input_seq)\n",
    "print(out.shape)"
   ]
  },
  {
   "cell_type": "code",
   "execution_count": null,
   "metadata": {},
   "outputs": [],
   "source": [
    "class MultiHeadAttention(tf.keras.layers.Layer):\n",
    "\n",
    "    def __init__(self, dim=256, nb_head=8, **kwargs):\n",
    "        self.dim = 256\n",
    "        self.head_dim = 256 // 8\n",
    "        self.nb_head = nb_head\n",
    "        super(**kwargs).__init__()\n",
    "\n",
    "    def build(self, input_shape):\n",
    "        self.query_layer = tf.keras.layers.Dense(256)\n",
    "        self.value_layer = tf.keras.layers.Dense(256)\n",
    "        self.key_layer = tf.keras.layers.Dense(256)\n",
    "        self.out_proj = tf.keras.layers.Dense(256)\n",
    "        super().build(input_shape)\n",
    "\n",
    "    def mask_softmax(self, x, mask):\n",
    "        x_expe = tf.math.exp(x)\n",
    "        x_expe_masked = x_expe * mask\n",
    "        x_expe_sum = tf.reduce_sum(x_expe_masked, axis = -1)\n",
    "        x_expe_sum = tf.expand_dims(x_expe_sum, axis=-1)\n",
    "        softmax = x_expe_masked / x_expe_sum\n",
    "        return softmax\n",
    "\n",
    "    def call(self, x, mask = None):\n",
    "\n",
    "        in_query, in_key, in_value = x\n",
    "\n",
    "        Q = self.query_layer(in_query)\n",
    "        K = self.key_layer(in_key)\n",
    "        V = self.value_layer(in_value)\n",
    "\n",
    "        batch_size = tf.shape(Q)[0]\n",
    "        Q_seq_len = tf.shape(Q)[1]\n",
    "        K_seq_len = tf.shape(K)[1]\n",
    "        V_seq_len = tf.shape(V)[1]\n",
    "\n",
    "        Q = tf.reshape(Q, [batch_size, Q_seq_len, self.nb_head, self.head_dim])\n",
    "        K = tf.reshape(K, [batch_size, K_seq_len, self.nb_head, self.head_dim])\n",
    "        V = tf.reshape(V, [batch_size, V_seq_len, self.nb_head, self.head_dim])\n",
    "\n",
    "        Q = tf.transpose(Q, [0, 2, 1, 3])\n",
    "        K = tf.transpose(K, [0, 2, 1, 3])\n",
    "        V = tf.transpose(V, [0, 2, 1, 3])\n",
    "\n",
    "        Q = tf.reshape(Q, [batch_size * self.nb_head, Q_seq_len, self.head_dim])\n",
    "        K = tf.reshape(K, [batch_size * self.nb_head, K_seq_len, self.head_dim])\n",
    "        V = tf.reshape(V, [batch_size * self.nb_head, V_seq_len, self.head_dim])\n",
    "\n",
    "        # Scaled dot product attention\n",
    "        QK = tf.matmul(Q, K, transpose_b=True)\n",
    "        QK = QK / tf.math.sqrt(256.)\n",
    "\n",
    "        if mask is not None:\n",
    "            QK = QK * mask\n",
    "            softmax_QK = self.mask_softmax(QK, mask)\n",
    "        else:\n",
    "            softmax_QK = tf.nn.softmax(QK, axis=-1)\n",
    "\n",
    "        attention = tf.matmul(softmax_QK, V)\n",
    "        attention = tf.reshape(attention, [batch_size, self.nb_head, Q_seq_len, self.head_dim])\n",
    "        attention = tf.transpose(attention, [0, 2, 1, 3])\n",
    "\n",
    "        # Concat\n",
    "        attention = tf.reshape(attention, [batch_size, Q_seq_len, self.nb_head * self.head_dim])\n",
    "\n",
    "        out_attention = self.out_proj(attention)\n",
    "\n",
    "        return out_attention\n",
    "\n",
    "def test():\n",
    "    layer_input = tf.keras.Input(shape=(6))\n",
    "    embedding = EmbeddingLayer(nb_token=6)(layer_input)\n",
    "\n",
    "    mask = tf.sequence_mask(tf.range(6) + 1, 6)\n",
    "    mask = tf.cast(mask, tf.float32)\n",
    "    mask = tf.expand_dims(mask, axis=0)\n",
    "    multi_attention = MultiHeadAttention()((embedding,embedding, embedding), mask =mask)\n",
    "\n",
    "    model = tf.keras.Model(layer_input, multi_attention)\n",
    "    model.summary()\n",
    "    return model\n",
    "\n",
    "m_test = test()\n",
    "out = m_test(output_seq)\n",
    "print(out.shape)"
   ]
  },
  {
   "cell_type": "code",
   "execution_count": null,
   "metadata": {},
   "outputs": [],
   "source": []
  },
  {
   "cell_type": "code",
   "execution_count": null,
   "metadata": {},
   "outputs": [],
   "source": [
    "class EncoderLayer(tf.keras.layers.Layer):\n",
    "\n",
    "    def __init__(self, **kwargs):\n",
    "        super(**kwargs).__init__()\n",
    "\n",
    "    def build(self, input_shape):\n",
    "        self.multi_head_attention = MultiHeadAttention()\n",
    "        self.norm = tf.keras.layers.LayerNormalization()\n",
    "        self.dense_out = tf.keras.layers.Dense(256)\n",
    "        super().build(input_shape)\n",
    "\n",
    "    def call(self, x):\n",
    "        attention = self.multi_head_attention((x, x, x))\n",
    "        post_attention = self.norm(x + attention)\n",
    "        x = self.dense_out(post_attention)\n",
    "        enc_output = self.norm(x + post_attention)\n",
    "        return enc_output\n",
    "\n",
    "class Encoder(tf.keras.layers.Layer):\n",
    "\n",
    "    def __init__(self, nb_encoder, **kwargs):\n",
    "        self.nb_encoder = nb_encoder\n",
    "        super(**kwargs).__init__()\n",
    "\n",
    "    def build(self, input_shape):\n",
    "        self.encoder_layers = []\n",
    "        for nb in range(self.nb_encoder):\n",
    "            self.encoder_layers.append(\n",
    "                EncoderLayer()\n",
    "            )\n",
    "        super().build(input_shape)\n",
    "\n",
    "    def call(self, x):\n",
    "\n",
    "        for encoder_layer in self.encoder_layers:\n",
    "            x = encoder_layer(x)\n",
    "        return x\n",
    "\n",
    "def test():\n",
    "    layer_input = tf.keras.Input(shape=(5))\n",
    "    embedding = EmbeddingLayer(nb_token=5)(layer_input)\n",
    "    enc_output = Encoder(nb_encoder=6)(embedding)\n",
    "    model = tf.keras.Model(layer_input, enc_output)\n",
    "    model.summary()\n",
    "    return model\n",
    "\n",
    "m_test = test()\n",
    "out = m_test(input_seq)\n",
    "print(out.shape)"
   ]
  },
  {
   "cell_type": "code",
   "execution_count": null,
   "metadata": {},
   "outputs": [],
   "source": [
    "\n"
   ]
  },
  {
   "cell_type": "code",
   "execution_count": null,
   "metadata": {},
   "outputs": [],
   "source": [
    "class DecoderLayer(tf.keras.layers.Layer):\n",
    "\n",
    "    def __init__(self, **kwargs):\n",
    "        super(**kwargs).__init__()\n",
    "\n",
    "    def build(self, input_shape):\n",
    "        self.multi_head_self_attention = MultiHeadAttention()\n",
    "        self.multi_head_enc_attention = MultiHeadAttention()\n",
    "        self.norm = tf.keras.layers.LayerNormalization()\n",
    "        self.proj_output = tf.keras.layers.Dense(256)\n",
    "        super().build(input_shape)\n",
    "\n",
    "    def call(self, x):\n",
    "        enc_output, output_embedding, mask = x\n",
    "        self_attention = self.multi_head_self_attention((output_embedding, output_embedding, output_embedding), mask)\n",
    "        post_self_att = self.norm(output_embedding + self_attention)\n",
    "        enc_attention = self.multi_head_enc_attention((post_self_att, enc_output, enc_output)) # Pas sur de l'ordre\n",
    "        post_enc_attention = self.norm(enc_attention + post_self_att)\n",
    "        proj_out = self.proj_output(post_enc_attention)\n",
    "        dec_output = self.norm(proj_out + post_enc_attention)\n",
    "        return dec_output\n",
    "\n",
    "class Decoder(tf.keras.layers.Layer):\n",
    "\n",
    "    def __init__(self, nb_decoder, **kwargs):\n",
    "        self.nb_decoder = nb_decoder\n",
    "        super(**kwargs).__init__()\n",
    "\n",
    "    def build(self, input_shape):\n",
    "        self.decoder_layers = []\n",
    "        for nb in range(self.nb_decoder):\n",
    "            self.decoder_layers.append(\n",
    "                DecoderLayer()\n",
    "            )\n",
    "        super().build(input_shape)\n",
    "\n",
    "    def call(self, x):\n",
    "\n",
    "        enc_out, output_embedding, mask = x\n",
    "        dec_output = output_embedding\n",
    "        for decoder_layer in self.decoder_layers:\n",
    "            dec_output = decoder_layer((enc_out, dec_output, mask))\n",
    "        return dec_output\n",
    "\n",
    "def test():\n",
    "    input_token = tf.keras.Input(shape=(5))\n",
    "    output_token = tf.keras.Input(shape=(6))\n",
    "\n",
    "    # Retrieve embedding\n",
    "    input_embedding = EmbeddingLayer(nb_token=5)(input_token)\n",
    "    output_embedding = EmbeddingLayer(nb_token=6)(output_token)\n",
    "\n",
    "    # Encoder\n",
    "    enc_output = Encoder(nb_encoder=6)(input_embedding)\n",
    "\n",
    "    # mask\n",
    "    mask = tf.sequence_mask(tf.range(6) + 1, 6)\n",
    "    mask = tf.cast(mask, tf.float32)\n",
    "    mask = tf.expand_dims(mask, axis=0)\n",
    "\n",
    "    # Decoder\n",
    "    dec_output = Decoder(nb_decoder=6)((enc_output, output_embedding, mask))\n",
    "\n",
    "    model = tf.keras.Model([input_token, output_token], dec_output)\n",
    "    model.summary()\n",
    "    return model\n",
    "\n",
    "m_test = test()\n",
    "out = m_test((input_seq, output_seq))\n",
    "print(out.shape)"
   ]
  },
  {
   "cell_type": "code",
   "execution_count": null,
   "metadata": {},
   "outputs": [],
   "source": []
  },
  {
   "cell_type": "code",
   "execution_count": null,
   "metadata": {},
   "outputs": [],
   "source": []
  },
  {
   "cell_type": "code",
   "execution_count": null,
   "metadata": {},
   "outputs": [],
   "source": []
  },
  {
   "cell_type": "code",
   "execution_count": null,
   "metadata": {},
   "outputs": [],
   "source": []
  },
  {
   "cell_type": "code",
   "execution_count": null,
   "metadata": {},
   "outputs": [],
   "source": []
  },
  {
   "cell_type": "code",
   "execution_count": null,
   "metadata": {},
   "outputs": [],
   "source": []
  },
  {
   "cell_type": "code",
   "execution_count": null,
   "metadata": {},
   "outputs": [],
   "source": []
  },
  {
   "cell_type": "code",
   "execution_count": null,
   "metadata": {},
   "outputs": [],
   "source": []
  },
  {
   "cell_type": "code",
   "execution_count": null,
   "metadata": {},
   "outputs": [],
   "source": []
  },
  {
   "cell_type": "code",
   "execution_count": null,
   "metadata": {},
   "outputs": [],
   "source": []
  },
  {
   "cell_type": "code",
   "execution_count": null,
   "metadata": {},
   "outputs": [],
   "source": []
  },
  {
   "cell_type": "code",
   "execution_count": null,
   "metadata": {},
   "outputs": [],
   "source": []
  },
  {
   "cell_type": "code",
   "execution_count": null,
   "metadata": {},
   "outputs": [],
   "source": []
  },
  {
   "cell_type": "code",
   "execution_count": null,
   "metadata": {},
   "outputs": [],
   "source": []
  }
 ],
 "metadata": {
  "kernelspec": {
   "display_name": "Python 3.10.4 ('recsys')",
   "language": "python",
   "name": "python3"
  },
  "language_info": {
   "codemirror_mode": {
    "name": "ipython",
    "version": 3
   },
   "file_extension": ".py",
   "mimetype": "text/x-python",
   "name": "python",
   "nbconvert_exporter": "python",
   "pygments_lexer": "ipython3",
   "version": "3.10.4"
  },
  "orig_nbformat": 4,
  "vscode": {
   "interpreter": {
    "hash": "3d34aa7b8271b882c4eaa14b3a9c79628959a28c28a8d4df4e5ffabe9667f584"
   }
  }
 },
 "nbformat": 4,
 "nbformat_minor": 2
}
